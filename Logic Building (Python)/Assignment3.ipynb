{
 "cells": [
  {
   "cell_type": "markdown",
   "id": "034b3886-01cd-49ec-ae6b-ea31f88b6c31",
   "metadata": {},
   "source": [
    "# Assignment 3"
   ]
  },
  {
   "cell_type": "markdown",
   "id": "c0e5a81f-3662-4cbd-8bb5-28008ad2e6d2",
   "metadata": {},
   "source": [
    "## Functions"
   ]
  },
  {
   "cell_type": "code",
   "execution_count": 1,
   "id": "89186889-3fb1-4d17-b9b8-e73fd7d7e43d",
   "metadata": {},
   "outputs": [
    {
     "name": "stdout",
     "output_type": "stream",
     "text": [
      "Hello, Harshit\n"
     ]
    }
   ],
   "source": [
    "# Q1\n",
    "def greet(name):\n",
    "    print(f\"Hello, {name}\")\n",
    "\n",
    "greet(\"Harshit\")"
   ]
  },
  {
   "cell_type": "code",
   "execution_count": 2,
   "id": "67aee9df-ece9-4304-a3d1-446502eea52b",
   "metadata": {},
   "outputs": [
    {
     "data": {
      "text/plain": [
       "125"
      ]
     },
     "execution_count": 2,
     "metadata": {},
     "output_type": "execute_result"
    }
   ],
   "source": [
    "# Q2\n",
    "def cube(n):\n",
    "    return n ** 3\n",
    "cube(5)"
   ]
  },
  {
   "cell_type": "code",
   "execution_count": 3,
   "id": "6fa2bc71-2f36-4834-a5f4-37149db06f8c",
   "metadata": {},
   "outputs": [
    {
     "data": {
      "text/plain": [
       "21"
      ]
     },
     "execution_count": 3,
     "metadata": {},
     "output_type": "execute_result"
    }
   ],
   "source": [
    "# Q3\n",
    "\n",
    "def sum_list(lst):\n",
    "    total = 0 \n",
    "    for i in range(len(lst)):\n",
    "        total += lst[i]\n",
    "    return total\n",
    "sum_list([1,2,3,4,5,6])"
   ]
  },
  {
   "cell_type": "code",
   "execution_count": 4,
   "id": "71e5ca96-7f41-45f2-ba36-6ee766358145",
   "metadata": {},
   "outputs": [
    {
     "data": {
      "text/plain": [
       "33.0"
      ]
     },
     "execution_count": 4,
     "metadata": {},
     "output_type": "execute_result"
    }
   ],
   "source": [
    "# Q4\n",
    "def average(a, b, c):\n",
    "    return (a + b + c)/3\n",
    "\n",
    "average(10,55,34)"
   ]
  },
  {
   "cell_type": "code",
   "execution_count": 5,
   "id": "83f0a572-ab99-45b1-8ec0-92f32056a23e",
   "metadata": {},
   "outputs": [
    {
     "data": {
      "text/plain": [
       "55"
      ]
     },
     "execution_count": 5,
     "metadata": {},
     "output_type": "execute_result"
    }
   ],
   "source": [
    "# Q5\n",
    "def min_of_two(a,b):\n",
    "    return min(a,b)\n",
    "\n",
    "min_of_two(55,61)"
   ]
  },
  {
   "cell_type": "code",
   "execution_count": 6,
   "id": "82297b9b-9a62-4bb1-a050-65131aa2d05c",
   "metadata": {},
   "outputs": [],
   "source": [
    "# Q6"
   ]
  },
  {
   "cell_type": "code",
   "execution_count": 7,
   "id": "d105b7cf-72e6-47c5-b16c-5f2dbb293154",
   "metadata": {},
   "outputs": [
    {
     "data": {
      "text/plain": [
       "35"
      ]
     },
     "execution_count": 7,
     "metadata": {},
     "output_type": "execute_result"
    }
   ],
   "source": [
    "# Q7\n",
    "def count_words(s):\n",
    "    count = 0\n",
    "    for i in range(len(s)):\n",
    "        if s[i] == \" \":\n",
    "            continue\n",
    "        else:\n",
    "            count += 1\n",
    "    return count\n",
    "\n",
    "count_words(\"This function counts the words in a string\")"
   ]
  },
  {
   "cell_type": "code",
   "execution_count": 8,
   "id": "a4ebdd0e-0a9d-4b9a-b72e-abdcc4788909",
   "metadata": {},
   "outputs": [
    {
     "data": {
      "text/plain": [
       "'g'"
      ]
     },
     "execution_count": 8,
     "metadata": {},
     "output_type": "execute_result"
    }
   ],
   "source": [
    "# Q8\n",
    "def last_char(s):\n",
    "    return s[-1]\n",
    "\n",
    "last_char(\"This function returns the last char in a string\")"
   ]
  },
  {
   "cell_type": "markdown",
   "id": "2f505765-b888-4634-b937-f6fe1b228a1d",
   "metadata": {},
   "source": [
    "## Tuples"
   ]
  },
  {
   "cell_type": "code",
   "execution_count": 9,
   "id": "06e1e938-8cc7-4374-bb22-80ed143b21ec",
   "metadata": {},
   "outputs": [
    {
     "name": "stdout",
     "output_type": "stream",
     "text": [
      "(1, 2, 3, 4, 5)\n"
     ]
    }
   ],
   "source": [
    "# Q9\n",
    "tup = (1,2,3,4,5)\n",
    "print(tup)"
   ]
  },
  {
   "cell_type": "code",
   "execution_count": 10,
   "id": "07952218-ba68-47ce-839d-ca6eb695312b",
   "metadata": {},
   "outputs": [
    {
     "name": "stdout",
     "output_type": "stream",
     "text": [
      "30\n"
     ]
    }
   ],
   "source": [
    "# Q10\n",
    "tup1 = (10, 20, 30, 40, 50)\n",
    "print(tup1[2])"
   ]
  },
  {
   "cell_type": "code",
   "execution_count": 11,
   "id": "42827d5e-3ad8-4dd0-b7a0-6dd3331cde83",
   "metadata": {},
   "outputs": [
    {
     "name": "stdout",
     "output_type": "stream",
     "text": [
      "5\n"
     ]
    }
   ],
   "source": [
    "# Q11\n",
    "print(len(tup1))"
   ]
  },
  {
   "cell_type": "code",
   "execution_count": 12,
   "id": "52a6ee47-d7b3-4661-ae01-9630f2365661",
   "metadata": {},
   "outputs": [
    {
     "name": "stdout",
     "output_type": "stream",
     "text": [
      "[1, 2, 3]\n"
     ]
    }
   ],
   "source": [
    "# Q12\n",
    "tup2 = (1, 2, 3)\n",
    "lst1 = list(tup2)\n",
    "print(lst1)"
   ]
  },
  {
   "cell_type": "code",
   "execution_count": 13,
   "id": "bad3f176-8cf3-417a-b025-ce07f0462ba0",
   "metadata": {},
   "outputs": [
    {
     "name": "stdout",
     "output_type": "stream",
     "text": [
      "(1, 2, 3, 4, 5, 6)\n"
     ]
    }
   ],
   "source": [
    "# Q13\n",
    "tup3 = (4, 5, 6)\n",
    "tup4 = tup2 + tup3\n",
    "print(tup4)"
   ]
  },
  {
   "cell_type": "code",
   "execution_count": null,
   "id": "ff728d65-e312-46cf-817f-d11086bcb7d0",
   "metadata": {},
   "outputs": [],
   "source": [
    "# Q14\n",
    "x = int(input())\n",
    "res = \"True\" if x in tup4 else \"False\"\n",
    "print(res)"
   ]
  },
  {
   "cell_type": "markdown",
   "id": "1c6c45f1-a24b-4765-9530-d789b564afd4",
   "metadata": {},
   "source": [
    "## Dictionaries"
   ]
  },
  {
   "cell_type": "code",
   "execution_count": null,
   "id": "853b5964-4f5a-4b6b-a9ef-6fc045e220c9",
   "metadata": {},
   "outputs": [],
   "source": [
    "# Q15\n",
    "dict1 = {\"Apple\" : 200, \"Mango\": 250, \"Banana\": 80}\n",
    "print(dict1)"
   ]
  },
  {
   "cell_type": "code",
   "execution_count": null,
   "id": "f116f0a4-0991-4bf6-8fbd-85186042e8f4",
   "metadata": {},
   "outputs": [],
   "source": [
    "# Q16\n",
    "print(dict1.values())"
   ]
  },
  {
   "cell_type": "code",
   "execution_count": null,
   "id": "c3c7973a-fe71-4677-8502-85b730d40730",
   "metadata": {},
   "outputs": [],
   "source": [
    "# Q17\n",
    "dict1[\"Orange\"] = 100\n",
    "dict1.update({\"Kiwi\": 300})\n",
    "print(dict1)"
   ]
  },
  {
   "cell_type": "code",
   "execution_count": null,
   "id": "6771f42d-bbff-4869-9ff2-9cd069927f61",
   "metadata": {},
   "outputs": [],
   "source": [
    "# Q18\n",
    "dict2 = {\"name\": \"Rahul\", \"age\": 22}\n",
    "print(dict2[\"name\"])"
   ]
  },
  {
   "cell_type": "code",
   "execution_count": null,
   "id": "e269253d-16e9-43c3-98a2-c0bbabe6b082",
   "metadata": {},
   "outputs": [],
   "source": [
    "# Q19\n",
    "dict1.pop(\"Kiwi\")\n",
    "print(dict1)"
   ]
  },
  {
   "cell_type": "code",
   "execution_count": null,
   "id": "87919876-cac4-4572-9429-b49c6220111d",
   "metadata": {},
   "outputs": [],
   "source": [
    "# Q20\n",
    "i = 1\n",
    "res1 = {}\n",
    "for i in range(1,6):\n",
    "    res1.update({i : i ** 2})\n",
    "print(res1)"
   ]
  },
  {
   "cell_type": "code",
   "execution_count": null,
   "id": "d35a29aa-acb0-44aa-9da5-627a215a97e7",
   "metadata": {},
   "outputs": [],
   "source": [
    "# Q21\n",
    "# Method 1\n",
    "print(len(dict1))\n",
    "\n",
    "# Method 2\n",
    "count = 0\n",
    "for key in dict1:\n",
    "    count += 1\n",
    "print(count)"
   ]
  },
  {
   "cell_type": "code",
   "execution_count": null,
   "id": "3b63fe0f-42f7-4292-aa2d-9758ca5d03c2",
   "metadata": {},
   "outputs": [],
   "source": [
    "# Q22\n",
    "dict3 = {'Apple': 2, 'Banana': 5, 'Mango': 7}\n",
    "dict3['Banana'] = 2\n",
    "print(dict3)"
   ]
  },
  {
   "cell_type": "code",
   "execution_count": null,
   "id": "86ca5abe-18e8-45e1-ba67-bcd59578b3e3",
   "metadata": {},
   "outputs": [],
   "source": []
  }
 ],
 "metadata": {
  "kernelspec": {
   "display_name": "Python 3 (ipykernel)",
   "language": "python",
   "name": "python3"
  },
  "language_info": {
   "codemirror_mode": {
    "name": "ipython",
    "version": 3
   },
   "file_extension": ".py",
   "mimetype": "text/x-python",
   "name": "python",
   "nbconvert_exporter": "python",
   "pygments_lexer": "ipython3",
   "version": "3.13.3"
  }
 },
 "nbformat": 4,
 "nbformat_minor": 5
}
