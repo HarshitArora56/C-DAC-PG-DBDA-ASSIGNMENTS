{
 "cells": [
  {
   "cell_type": "code",
   "execution_count": 1,
   "id": "3eb51a7f-783a-4b34-8ade-d6bd69c7d63b",
   "metadata": {},
   "outputs": [
    {
     "name": "stdout",
     "output_type": "stream",
     "text": [
      "qwertyuiopasdfghjkl asdfghjkzxcvbnm\n"
     ]
    }
   ],
   "source": [
    "my_string = \"qwertyuiopasdfghjkl asdfghjkzxcvbnm\"\n",
    "print(my_string)"
   ]
  },
  {
   "cell_type": "code",
   "execution_count": 6,
   "id": "0100a38a-b05d-48ff-8795-f8a7747b8555",
   "metadata": {},
   "outputs": [
    {
     "name": "stdout",
     "output_type": "stream",
     "text": [
      "third_char =  e\n",
      "last_char =  m\n",
      "first_five =  qwert\n",
      "last_five =  cvbnm\n",
      "every_other_char =  qetuoadgjladgjzcbm\n",
      "reverse_string =  mnbvcxzkjhgfdsa lkjhgfdsapoiuytrewq\n"
     ]
    }
   ],
   "source": [
    "#printing different chars of my_string using indexing\n",
    "print(\"third_char = \", my_string[2])\n",
    "print(\"last_char = \", my_string[-1])\n",
    "\n",
    "print(\"first_five = \", my_string[0:5])\n",
    "print(\"last_five = \", my_string[-5:])\n",
    "\n",
    "print(\"every_other_char = \", my_string[::2])\n",
    "print(\"reverse_string = \", my_string[::-1])"
   ]
  },
  {
   "cell_type": "code",
   "execution_count": null,
   "id": "b492ab04-cfdc-47a5-985b-d5dd6d2932a8",
   "metadata": {},
   "outputs": [],
   "source": []
  }
 ],
 "metadata": {
  "kernelspec": {
   "display_name": "Python 3 (ipykernel)",
   "language": "python",
   "name": "python3"
  },
  "language_info": {
   "codemirror_mode": {
    "name": "ipython",
    "version": 3
   },
   "file_extension": ".py",
   "mimetype": "text/x-python",
   "name": "python",
   "nbconvert_exporter": "python",
   "pygments_lexer": "ipython3",
   "version": "3.13.3"
  }
 },
 "nbformat": 4,
 "nbformat_minor": 5
}
