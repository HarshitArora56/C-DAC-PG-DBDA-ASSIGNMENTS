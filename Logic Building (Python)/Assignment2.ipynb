{
 "cells": [
  {
   "cell_type": "markdown",
   "id": "4187b7b2-89b0-4edd-8539-bfffc18e521f",
   "metadata": {},
   "source": [
    "# Assignment 2"
   ]
  },
  {
   "cell_type": "markdown",
   "id": "5000790a-8b34-4a77-b441-ec162bee767b",
   "metadata": {},
   "source": [
    "## Sets"
   ]
  },
  {
   "cell_type": "code",
   "execution_count": 1,
   "id": "7bb117fc-cce5-4a4f-9380-55f4b83d99af",
   "metadata": {
    "scrolled": true
   },
   "outputs": [
    {
     "name": "stdout",
     "output_type": "stream",
     "text": [
      "{1, 2, 3, 4, 5}\n",
      "{1, 2, 4, 5, 6}\n"
     ]
    }
   ],
   "source": [
    "# Q1 Set with numbers from 1 to 5\n",
    "first_set = {1,2,3,4,5}\n",
    "print(first_set)\n",
    "\n",
    "first_set.add(6)\n",
    "first_set.remove(3)\n",
    "print(first_set)"
   ]
  },
  {
   "cell_type": "code",
   "execution_count": 2,
   "id": "295556b3-028c-4426-9937-13351cbc6398",
   "metadata": {},
   "outputs": [
    {
     "name": "stdout",
     "output_type": "stream",
     "text": [
      "Union ->  {1, 2, 3, 4, 5}\n",
      "Intersection ->  {3}\n",
      "other method\n",
      "Union ->  {1, 2, 3, 4, 5}\n",
      "Intersection ->  {3}\n"
     ]
    }
   ],
   "source": [
    "# Q2\n",
    "set1 = {1,2,3}\n",
    "set2 = {3,4,5}\n",
    "\n",
    "print(\"Union -> \", set1 | set2)\n",
    "print(\"Intersection -> \", set1 & set2)\n",
    "\n",
    "print(\"other method\")\n",
    "print(\"Union -> \", set1.union(set2))\n",
    "print(\"Intersection -> \", set1.intersection(set2))"
   ]
  },
  {
   "cell_type": "code",
   "execution_count": 3,
   "id": "ee88469f-9d1f-4018-a4ff-2ac06dbe5fd8",
   "metadata": {},
   "outputs": [
    {
     "name": "stdout",
     "output_type": "stream",
     "text": [
      "{1, 2, 3, 4, 5}\n"
     ]
    }
   ],
   "source": [
    "# Q3\n",
    "list1 = [1,2,2,3,4,4,5]\n",
    "set3 = set(list1)\n",
    "print(set3)"
   ]
  },
  {
   "cell_type": "code",
   "execution_count": 4,
   "id": "746f4134-8deb-4733-a058-3c2b79ba5a92",
   "metadata": {},
   "outputs": [
    {
     "name": "stdout",
     "output_type": "stream",
     "text": [
      "Existance of 7 -  True\n"
     ]
    }
   ],
   "source": [
    "# Q4\n",
    "set4 = {1,3,5,7,9}\n",
    "\n",
    "print(\"Existance of 7 - \", 7 in set4)"
   ]
  },
  {
   "cell_type": "code",
   "execution_count": 5,
   "id": "058a6456-e841-4aa5-b83e-a2c330d216d2",
   "metadata": {},
   "outputs": [
    {
     "name": "stdout",
     "output_type": "stream",
     "text": [
      "Symmetric Difference -  {2, 4, 7, 9}\n"
     ]
    }
   ],
   "source": [
    "# Q5\n",
    "set5 = {1, 3, 5, 7, 9}\n",
    "set6 = {1, 2, 3, 4, 5}\n",
    "\n",
    "print(\"Symmetric Difference - \", set5 ^ set6)"
   ]
  },
  {
   "cell_type": "markdown",
   "id": "2fa426a5-eca9-4634-b2e2-0fc732e256c2",
   "metadata": {},
   "source": [
    "## Dictionaries "
   ]
  },
  {
   "cell_type": "code",
   "execution_count": 6,
   "id": "55740450-d6e6-4474-8a4a-a38149e714ea",
   "metadata": {},
   "outputs": [
    {
     "name": "stdout",
     "output_type": "stream",
     "text": [
      "dict_keys(['Harshit', 'Yogesh', 'Vedant'])\n"
     ]
    }
   ],
   "source": [
    "# Q6\n",
    "\n",
    "dict_stu = {\"Harshit\" : 96, \"Yogesh\" : 94, \"Vedant\" : 92}\n",
    "key_values = dict_stu.keys()\n",
    "print(key_values)"
   ]
  },
  {
   "cell_type": "code",
   "execution_count": 7,
   "id": "b0d31342-079a-4645-97f1-64e56202b8d3",
   "metadata": {},
   "outputs": [
    {
     "name": "stdout",
     "output_type": "stream",
     "text": [
      "dict_items([('a', 1), ('b', 5), ('c', 3)])\n"
     ]
    }
   ],
   "source": [
    "# Q7\n",
    "dict1 = {\"a\": 1, \"b\": 2, \"c\": 3}\n",
    "dict1[\"b\"] = 5\n",
    "print(dict1.items())"
   ]
  },
  {
   "cell_type": "code",
   "execution_count": 8,
   "id": "14f880b9-a8cf-479e-be20-fa62666f638f",
   "metadata": {},
   "outputs": [
    {
     "name": "stdout",
     "output_type": "stream",
     "text": [
      "{'h': 1, 'e': 1, 'l': 3, 'o': 2, ' ': 1, 'w': 1, 'r': 1, 'd': 1}\n"
     ]
    }
   ],
   "source": [
    "# Q8\n",
    "str = \"hello world\"\n",
    "freq = {}\n",
    "\n",
    "for char in str:\n",
    "    if char in freq:\n",
    "        freq[char] += 1\n",
    "    else:\n",
    "        freq[char] = 1\n",
    "\n",
    "print(freq)"
   ]
  },
  {
   "cell_type": "code",
   "execution_count": 9,
   "id": "ccb9b8e7-da32-4a4a-aa68-469d58fbf10b",
   "metadata": {},
   "outputs": [
    {
     "name": "stdout",
     "output_type": "stream",
     "text": [
      "{'x': 10, 'y': 30, 'z': 40}\n"
     ]
    }
   ],
   "source": [
    "# Q9\n",
    "dict1 = {\"x\" : 10, \"y\" : 20}\n",
    "dict2 = {\"y\" : 30, \"z\" : 40}\n",
    "\n",
    "dict1.update(dict2)\n",
    "print(dict1)"
   ]
  },
  {
   "cell_type": "code",
   "execution_count": 10,
   "id": "212f5a9d-2957-43f4-9b02-69999f4ef04c",
   "metadata": {},
   "outputs": [
    {
     "name": "stdout",
     "output_type": "stream",
     "text": [
      "{'a': 1, 'b': 2, 'c': 3, 'd': 0}\n"
     ]
    }
   ],
   "source": [
    "# Q10\n",
    "dict1 = {\"a\": 1, \"b\": 2, \"c\": 3}\n",
    "default = 0\n",
    "if \"d\" in dict1:\n",
    "    print(\"Key named 'd' exist in dict1\")\n",
    "else:\n",
    "    dict1.update({\"d\" : default})\n",
    "\n",
    "print(dict1)"
   ]
  },
  {
   "cell_type": "markdown",
   "id": "473d7e94-b392-410b-a4d9-d070deb36e75",
   "metadata": {},
   "source": [
    "## Functions"
   ]
  },
  {
   "cell_type": "code",
   "execution_count": 11,
   "id": "09a28524-2476-41a5-82ba-edfaf76b1424",
   "metadata": {},
   "outputs": [
    {
     "name": "stdout",
     "output_type": "stream",
     "text": [
      "Hello, Python!\n"
     ]
    }
   ],
   "source": [
    "# Q11\n",
    "def greet():\n",
    "    print(\"Hello, Python!\")\n",
    "\n",
    "greet()"
   ]
  },
  {
   "cell_type": "code",
   "execution_count": 12,
   "id": "025c48db-e83b-46fa-8afd-97a493034f89",
   "metadata": {},
   "outputs": [
    {
     "data": {
      "text/plain": [
       "64"
      ]
     },
     "execution_count": 12,
     "metadata": {},
     "output_type": "execute_result"
    }
   ],
   "source": [
    "# Q12\n",
    "def square(n):\n",
    "    return n**2\n",
    "\n",
    "square(8)"
   ]
  },
  {
   "cell_type": "code",
   "execution_count": 13,
   "id": "12d15007-d52b-4925-b2b0-cced96f4bd25",
   "metadata": {},
   "outputs": [
    {
     "data": {
      "text/plain": [
       "21"
      ]
     },
     "execution_count": 13,
     "metadata": {},
     "output_type": "execute_result"
    }
   ],
   "source": [
    "# Q13\n",
    "def list_sum(lst):\n",
    "    total = 0\n",
    "    for i in lst:\n",
    "        total += i\n",
    "    return total\n",
    "list2 = [1,2,2,3,4,4,5]\n",
    "list_sum(list2)"
   ]
  },
  {
   "cell_type": "code",
   "execution_count": 14,
   "id": "b444b081-9099-4a3d-886f-c36eaf8f72d0",
   "metadata": {},
   "outputs": [
    {
     "name": "stdout",
     "output_type": "stream",
     "text": [
      "Welcome, Harshit\n",
      "Welcome, Guest\n"
     ]
    }
   ],
   "source": [
    "# Q14\n",
    "def welcome(name = \"Guest\"):\n",
    "    print(f\"Welcome, {name}\")\n",
    "\n",
    "welcome(\"Harshit\")\n",
    "welcome()"
   ]
  },
  {
   "cell_type": "code",
   "execution_count": 15,
   "id": "0107a847-83cf-43ea-b3e6-33de0f64a296",
   "metadata": {},
   "outputs": [
    {
     "name": "stdout",
     "output_type": "stream",
     "text": [
      "True\n",
      "False\n"
     ]
    }
   ],
   "source": [
    "# Q15\n",
    "def is_even(num):\n",
    "    if num % 2 == 0:\n",
    "        return True\n",
    "    else:\n",
    "        return False\n",
    "\n",
    "print(is_even(248))\n",
    "print(is_even(343))"
   ]
  },
  {
   "cell_type": "code",
   "execution_count": 16,
   "id": "9feaa732-849b-4c51-8ac3-b70c9e893be4",
   "metadata": {},
   "outputs": [
    {
     "data": {
      "text/plain": [
       "720"
      ]
     },
     "execution_count": 16,
     "metadata": {},
     "output_type": "execute_result"
    }
   ],
   "source": [
    "# Q16\n",
    "def factorial(num):\n",
    "    result = num\n",
    "    if num > 1:\n",
    "        result *= factorial(num-1)\n",
    "    elif num == 0 or num == 1:\n",
    "        result = 1\n",
    "    return result\n",
    "        \n",
    "factorial(6)"
   ]
  },
  {
   "cell_type": "code",
   "execution_count": 17,
   "id": "cc8a0f92-dfd7-4960-abc6-b517871fc20c",
   "metadata": {},
   "outputs": [
    {
     "name": "stdout",
     "output_type": "stream",
     "text": [
      "66\n",
      "634\n"
     ]
    }
   ],
   "source": [
    "# Q17\n",
    "# method 1 using if else statements\n",
    "def max_of_three(a, b, c):\n",
    "    if a>=b and a>=c:\n",
    "        return a\n",
    "    elif b>=a and b>=c:\n",
    "        return b\n",
    "    else:\n",
    "        return c\n",
    "\n",
    "\n",
    "# method 2 using max() function\n",
    "def max_of_three2(a, b, c):\n",
    "    return max(a, b, c)\n",
    "    \n",
    "print(max_of_three(56,66,24))\n",
    "print(max_of_three2(78,25,634))"
   ]
  },
  {
   "cell_type": "code",
   "execution_count": 18,
   "id": "7bfc8a04-af0f-44e1-a5e2-b88d1418d5ca",
   "metadata": {},
   "outputs": [
    {
     "name": "stdout",
     "output_type": "stream",
     "text": [
      "gnirts eht esrever ot noitcnuf a si sihT\n"
     ]
    }
   ],
   "source": [
    "# Q18\n",
    "\n",
    "def reverse_string(s):\n",
    "    print(s[::-1])\n",
    "\n",
    "reverse_string(\"This is a function to reverse the string\")\n",
    "    "
   ]
  },
  {
   "cell_type": "code",
   "execution_count": 19,
   "id": "ea9464cd-5c69-4435-a70d-1787771abe10",
   "metadata": {},
   "outputs": [
    {
     "data": {
      "text/plain": [
       "11"
      ]
     },
     "execution_count": 19,
     "metadata": {},
     "output_type": "execute_result"
    }
   ],
   "source": [
    "# Q19\n",
    "def count_vowels(s):\n",
    "    vowels = \"aeiouAEIOU\"\n",
    "    count = 0\n",
    "    for char in s:\n",
    "        if char in vowels:\n",
    "            count += 1\n",
    "    return count\n",
    "\n",
    "count_vowels(\"This is a function to count vowels\")"
   ]
  },
  {
   "cell_type": "code",
   "execution_count": 20,
   "id": "2bbb6d1e-78c4-4f0b-82dc-eec0bdc10ca5",
   "metadata": {},
   "outputs": [
    {
     "data": {
      "text/plain": [
       "15"
      ]
     },
     "execution_count": 20,
     "metadata": {},
     "output_type": "execute_result"
    }
   ],
   "source": [
    "# Q20\n",
    "def n_sum(*args):\n",
    "    total = 0\n",
    "    for num in args:\n",
    "        total += num\n",
    "    return total\n",
    "\n",
    "n_sum(1, 2, 3, 4, 5)"
   ]
  },
  {
   "cell_type": "markdown",
   "id": "2d91c370-84c2-4c7a-bf5b-2f9f27f09365",
   "metadata": {},
   "source": [
    "## Loops"
   ]
  },
  {
   "cell_type": "code",
   "execution_count": 21,
   "id": "adf49885-8d38-4f27-aeab-c164d356ac4c",
   "metadata": {},
   "outputs": [
    {
     "name": "stdout",
     "output_type": "stream",
     "text": [
      "1 2 3 4 5 6 7 8 9 10 "
     ]
    }
   ],
   "source": [
    "# Q21\n",
    "\n",
    "for i in range(1,11):\n",
    "    print(i, end = \" \")"
   ]
  },
  {
   "cell_type": "code",
   "execution_count": 22,
   "id": "bb8e7c28-e9c6-43b3-a554-5422d853ead7",
   "metadata": {},
   "outputs": [
    {
     "name": "stdout",
     "output_type": "stream",
     "text": [
      "5 10 15 20 25 30 35 40 45 50 "
     ]
    }
   ],
   "source": [
    "# Q22\n",
    "\n",
    "for i in range(1,11):\n",
    "    print(5*i, end = \" \")"
   ]
  },
  {
   "cell_type": "code",
   "execution_count": 23,
   "id": "97ea236b-a1f9-40ae-ad0f-d51b25cd3b77",
   "metadata": {},
   "outputs": [
    {
     "name": "stdout",
     "output_type": "stream",
     "text": [
      "10\n",
      "20\n",
      "30\n",
      "40\n"
     ]
    },
    {
     "data": {
      "text/plain": [
       "[None, None, None, None]"
      ]
     },
     "execution_count": 23,
     "metadata": {},
     "output_type": "execute_result"
    }
   ],
   "source": [
    "# Q23\n",
    "\n",
    "list3 = [10, 20, 30, 40]\n",
    "'''for num in list3:\n",
    "    print(num)'''\n",
    "[print(x) for x in list3]"
   ]
  },
  {
   "cell_type": "code",
   "execution_count": 24,
   "id": "b1df863b-54ae-442c-938d-68c7dc170026",
   "metadata": {},
   "outputs": [
    {
     "name": "stdout",
     "output_type": "stream",
     "text": [
      "5050\n"
     ]
    }
   ],
   "source": [
    "# Q24\n",
    "\n",
    "total = 0\n",
    "for i in range(1,101):\n",
    "    total += i\n",
    "print(total)"
   ]
  },
  {
   "cell_type": "code",
   "execution_count": 25,
   "id": "b284dc8a-e161-4687-96c2-53a43008a763",
   "metadata": {},
   "outputs": [
    {
     "name": "stdout",
     "output_type": "stream",
     "text": [
      "2\n",
      "4\n",
      "6\n",
      "8\n",
      "10\n",
      "12\n",
      "14\n",
      "16\n",
      "18\n",
      "20\n"
     ]
    }
   ],
   "source": [
    "# Q25\n",
    "for i in range(1,21):\n",
    "    if i % 2 == 0:\n",
    "        print(i)\n"
   ]
  },
  {
   "cell_type": "code",
   "execution_count": 26,
   "id": "765a030a-ccfc-4144-ae68-74e9edb25988",
   "metadata": {},
   "outputs": [
    {
     "name": "stdout",
     "output_type": "stream",
     "text": [
      "P\n",
      "y\n",
      "t\n",
      "h\n",
      "o\n",
      "n\n"
     ]
    }
   ],
   "source": [
    "# Q26\n",
    "\n",
    "str1 = \"Python\"\n",
    "for char in str1:\n",
    "    print(char)\n"
   ]
  },
  {
   "cell_type": "code",
   "execution_count": 27,
   "id": "7e82de57-d250-498c-a69d-089d7c21ec41",
   "metadata": {},
   "outputs": [
    {
     "name": "stdin",
     "output_type": "stream",
     "text": [
      "Enter the num:  6\n"
     ]
    },
    {
     "name": "stdout",
     "output_type": "stream",
     "text": [
      "720\n"
     ]
    }
   ],
   "source": [
    "# Q27\n",
    "\n",
    "n = int(input(\"Enter the num: \"))\n",
    "factorial = 1\n",
    "for i in range(1,n+1):\n",
    "    factorial *= i\n",
    "\n",
    "print(factorial)"
   ]
  },
  {
   "cell_type": "code",
   "execution_count": 28,
   "id": "291b7be9-d847-41ba-90ec-d53cc241af2d",
   "metadata": {},
   "outputs": [
    {
     "name": "stdout",
     "output_type": "stream",
     "text": [
      "[5, 4, 3, 2, 1]\n",
      "[5, 4, 3, 2, 1]\n"
     ]
    }
   ],
   "source": [
    "# Q28\n",
    "\n",
    "## Method 1\n",
    "list4 = [1, 2, 3, 4, 5]\n",
    "reversed_list = []\n",
    "for i in range(len(list4),0,-1):\n",
    "    reversed_list.append(i)\n",
    "print(reversed_list)\n",
    "\n",
    "## Method 2\n",
    "list41= [1, 2, 3, 4, 5]\n",
    "res = []\n",
    "for i in list4:\n",
    "    res.insert(0,i)\n",
    "\n",
    "print(res)"
   ]
  },
  {
   "cell_type": "code",
   "execution_count": 29,
   "id": "02b6aa06-c20f-4d34-ba89-92142e4e23a1",
   "metadata": {},
   "outputs": [
    {
     "name": "stdout",
     "output_type": "stream",
     "text": [
      "1 3 5 7 9 11 13 15 17 19 21 23 25 27 29 31 33 35 37 39 41 43 45 47 49 \n",
      "25\n"
     ]
    }
   ],
   "source": [
    "# Q29\n",
    "count_odd = 0\n",
    "for i in range(1,51):\n",
    "    if i % 2 != 0:\n",
    "        count_odd += 1\n",
    "        print(i, end=\" \")\n",
    "\n",
    "print(\"\\n\", count_odd, sep=\"\")"
   ]
  },
  {
   "cell_type": "code",
   "execution_count": 30,
   "id": "3f2226d4-ac5b-4e27-aa4f-8f2852747681",
   "metadata": {},
   "outputs": [
    {
     "name": "stdout",
     "output_type": "stream",
     "text": [
      "5 2 89 121 "
     ]
    }
   ],
   "source": [
    "# Q30\n",
    "list5 = [5, -4, 2, 89, -100, -33, 121]\n",
    "\n",
    "for i in list5:\n",
    "    if i > 0:\n",
    "        print(i, end=\" \")"
   ]
  },
  {
   "cell_type": "markdown",
   "id": "eda24397-1d5a-48ab-8abe-f65c6f3e3e29",
   "metadata": {},
   "source": [
    "## While Loops"
   ]
  },
  {
   "cell_type": "code",
   "execution_count": 31,
   "id": "fa5fc630-bbe5-47d2-9ef6-566dfce8be25",
   "metadata": {},
   "outputs": [
    {
     "name": "stdout",
     "output_type": "stream",
     "text": [
      "1 2 3 4 5 6 7 8 9 10 "
     ]
    }
   ],
   "source": [
    "# Q31\n",
    "\n",
    "n = 1\n",
    "while n <= 10:\n",
    "    print(n, end = \" \")\n",
    "    n = n + 1"
   ]
  },
  {
   "cell_type": "code",
   "execution_count": 32,
   "id": "4df8f4da-adb5-488b-9117-7c3c3abd6652",
   "metadata": {},
   "outputs": [
    {
     "name": "stdin",
     "output_type": "stream",
     "text": [
      "Enter the number:  354\n"
     ]
    },
    {
     "name": "stdout",
     "output_type": "stream",
     "text": [
      "12\n"
     ]
    }
   ],
   "source": [
    "# Q32\n",
    "\n",
    "num = int(input(\"Enter the number: \"))\n",
    "sum = 0\n",
    "while num > 0:\n",
    "    sum += num % 10\n",
    "    num //= 10\n",
    "    \n",
    "print(sum)"
   ]
  },
  {
   "cell_type": "code",
   "execution_count": 33,
   "id": "83987e52-e5ef-4a16-b7bd-2cf3bf3aa906",
   "metadata": {},
   "outputs": [
    {
     "name": "stdin",
     "output_type": "stream",
     "text": [
      "Enter the number:  678\n"
     ]
    },
    {
     "name": "stdout",
     "output_type": "stream",
     "text": [
      "876\n"
     ]
    }
   ],
   "source": [
    "# Q33\n",
    "\n",
    "num = int(input(\"Enter the number: \"))\n",
    "rev = 0\n",
    "\n",
    "while num > 0:\n",
    "    digit = num % 10\n",
    "    rev = (rev * 10) + digit\n",
    "    num //= 10\n",
    "print(rev)"
   ]
  },
  {
   "cell_type": "code",
   "execution_count": 34,
   "id": "05e2c645-569b-4d8e-8f73-fc611c186576",
   "metadata": {},
   "outputs": [
    {
     "name": "stdin",
     "output_type": "stream",
     "text": [
      " exit\n"
     ]
    }
   ],
   "source": [
    "# Q34\n",
    "\n",
    "while n != \"exit\":\n",
    "    n = input()"
   ]
  },
  {
   "cell_type": "code",
   "execution_count": 35,
   "id": "34d5e167-0cf5-4de7-9434-5ab16ce4bc52",
   "metadata": {},
   "outputs": [
    {
     "name": "stdin",
     "output_type": "stream",
     "text": [
      "Multiplication Table of:  5\n"
     ]
    },
    {
     "name": "stdout",
     "output_type": "stream",
     "text": [
      "5 10 15 20 25 30 35 40 45 50 "
     ]
    }
   ],
   "source": [
    "# Q35\n",
    "\n",
    "n = int(input(\"Multiplication Table of: \"))\n",
    "\n",
    "i = 1\n",
    "while i <= 10:\n",
    "    print(n * i, end = \" \")\n",
    "    i += 1 "
   ]
  },
  {
   "cell_type": "code",
   "execution_count": 36,
   "id": "f18a0a20-d18d-4581-8d2c-248df5f151f5",
   "metadata": {},
   "outputs": [
    {
     "name": "stdout",
     "output_type": "stream",
     "text": [
      "0\n",
      "2\n",
      "4\n",
      "6\n",
      "8\n",
      "10\n",
      "12\n",
      "14\n",
      "16\n",
      "18\n"
     ]
    }
   ],
   "source": [
    "# Q36\n",
    "count = 0\n",
    "num = 0\n",
    "while count < 10:\n",
    "    print(num)\n",
    "    count += 1\n",
    "    num += 2"
   ]
  },
  {
   "cell_type": "code",
   "execution_count": 37,
   "id": "0bdbd882-6f7a-478c-9dca-548131c9fd1a",
   "metadata": {},
   "outputs": [
    {
     "name": "stdin",
     "output_type": "stream",
     "text": [
      "Enter the number:  7\n"
     ]
    },
    {
     "name": "stdout",
     "output_type": "stream",
     "text": [
      "5040\n"
     ]
    }
   ],
   "source": [
    "# Q37\n",
    "\n",
    "n = int(input(\"Enter the number: \"))\n",
    "res = 1\n",
    "while n > 0:\n",
    "    res *= n\n",
    "    n -= 1\n",
    "print(res)"
   ]
  },
  {
   "cell_type": "code",
   "execution_count": 38,
   "id": "4fcee1d1-e763-4bbd-adcc-f2fd2df54185",
   "metadata": {},
   "outputs": [
    {
     "name": "stdin",
     "output_type": "stream",
     "text": [
      "Enter the number:  987654321\n"
     ]
    },
    {
     "name": "stdout",
     "output_type": "stream",
     "text": [
      "9\n"
     ]
    }
   ],
   "source": [
    "# Q38\n",
    "\n",
    "num = int(input(\"Enter the number: \"))\n",
    "count = 0\n",
    "while num > 0:\n",
    "    digit += num % 10\n",
    "    count += 1\n",
    "    num //= 10\n",
    "    \n",
    "print(count)"
   ]
  },
  {
   "cell_type": "code",
   "execution_count": 39,
   "id": "7c46e29b-3661-4a2f-8ed4-e67fe44d6955",
   "metadata": {},
   "outputs": [
    {
     "name": "stdin",
     "output_type": "stream",
     "text": [
      " 10\n"
     ]
    },
    {
     "name": "stdout",
     "output_type": "stream",
     "text": [
      "Fibonacci sequence upto 10 terms\n",
      "0 1 1 2 3 5 8 13 21 34 55 "
     ]
    }
   ],
   "source": [
    "# Q39\n",
    "\n",
    "num = int(input())\n",
    "print(f\"Fibonacci sequence upto {num} terms\")\n",
    "count = 0\n",
    "n1 = 0\n",
    "n2 = 1\n",
    "while count <= num:\n",
    "    print(n1, end = \" \")\n",
    "    n3 = n1 + n2\n",
    "    n1 = n2\n",
    "    n2 = n3\n",
    "    count += 1"
   ]
  },
  {
   "cell_type": "code",
   "execution_count": 40,
   "id": "78b219b0-0cd8-4998-98ec-b3b382cfcff1",
   "metadata": {},
   "outputs": [
    {
     "name": "stdin",
     "output_type": "stream",
     "text": [
      "Enter the correct password:  python123\n"
     ]
    }
   ],
   "source": [
    "# Q40\n",
    "\n",
    "while n != \"python123\":\n",
    "    n = input(\"Enter the correct password: \")"
   ]
  },
  {
   "cell_type": "markdown",
   "id": "4a1f8507-f390-4f69-974e-6999916c2624",
   "metadata": {},
   "source": [
    "## Conditional Statements"
   ]
  },
  {
   "cell_type": "code",
   "execution_count": 41,
   "id": "d4f16f96-f09d-4e8d-938b-a18de419905e",
   "metadata": {},
   "outputs": [
    {
     "name": "stdin",
     "output_type": "stream",
     "text": [
      " -8520\n"
     ]
    },
    {
     "name": "stdout",
     "output_type": "stream",
     "text": [
      "negative\n"
     ]
    }
   ],
   "source": [
    "# Q41\n",
    "\n",
    "n = int(input())\n",
    "\n",
    "if n < 0:\n",
    "    print(\"negative\")\n",
    "elif n == 0:\n",
    "    print(\"Zero\")\n",
    "else:\n",
    "    print(\"Positive\")"
   ]
  },
  {
   "cell_type": "code",
   "execution_count": 42,
   "id": "85f89999-5d19-4044-ab0e-73870e39d064",
   "metadata": {},
   "outputs": [
    {
     "name": "stdin",
     "output_type": "stream",
     "text": [
      " 2024\n"
     ]
    },
    {
     "name": "stdout",
     "output_type": "stream",
     "text": [
      "Leap Year\n"
     ]
    }
   ],
   "source": [
    "# Q42\n",
    "\n",
    "year = int(input())\n",
    "if year < 1000:\n",
    "    print(\"Invalid Input\")\n",
    "elif year % 100 == 100 and year % 400 == 0:\n",
    "    print(\"Leap year\")\n",
    "elif year % 100 != 0 and year % 4 == 0:\n",
    "    print(\"Leap Year\")\n",
    "else:\n",
    "    print(\"Not a Leap Year\")"
   ]
  },
  {
   "cell_type": "code",
   "execution_count": 43,
   "id": "a605be03-fb56-414e-843f-1d015a8e6d6e",
   "metadata": {},
   "outputs": [
    {
     "name": "stdin",
     "output_type": "stream",
     "text": [
      "Enter a character:  g\n"
     ]
    },
    {
     "name": "stdout",
     "output_type": "stream",
     "text": [
      "Consonant\n"
     ]
    }
   ],
   "source": [
    "# Q43\n",
    "\n",
    "vowels1 = \"aeiouAEIOU\"\n",
    "char1 = input(\"Enter a character: \")\n",
    "single_char = char1[0]\n",
    "if single_char in vowels1:\n",
    "    print(\"Vowel\")\n",
    "else:\n",
    "    print(\"Consonant\")"
   ]
  },
  {
   "cell_type": "code",
   "execution_count": 44,
   "id": "e664b0e0-f310-4532-a4b9-40bb83aa9838",
   "metadata": {},
   "outputs": [
    {
     "name": "stdin",
     "output_type": "stream",
     "text": [
      "Enter the number:  65\n"
     ]
    },
    {
     "name": "stdout",
     "output_type": "stream",
     "text": [
      "65 is Not Divisible by both 3 and 5\n"
     ]
    }
   ],
   "source": [
    "# Q44\n",
    "\n",
    "n = int(input(\"Enter the number: \"))\n",
    "if n % 3 == 0 and n % 5 == 0:\n",
    "    print(f\"{n} is Divisible by both 3 and 5\")\n",
    "else:\n",
    "    print(f\"{n} is Not Divisible by both 3 and 5\")"
   ]
  },
  {
   "cell_type": "code",
   "execution_count": 45,
   "id": "9c52e8de-f892-40e3-a3ad-6b41eb67d07e",
   "metadata": {},
   "outputs": [
    {
     "name": "stdin",
     "output_type": "stream",
     "text": [
      "Enter your age:  22\n"
     ]
    },
    {
     "name": "stdout",
     "output_type": "stream",
     "text": [
      "You are Eligible to Vote\n"
     ]
    }
   ],
   "source": [
    "# Q45\n",
    "\n",
    "age = int(input(\"Enter your age: \"))\n",
    "if age >= 18:\n",
    "    print(\"You are Eligible to Vote\")\n",
    "else:\n",
    "    print(\"Not Eligible\")"
   ]
  },
  {
   "cell_type": "code",
   "execution_count": 46,
   "id": "292e7c4f-df64-4571-9dea-7a3c726f0216",
   "metadata": {},
   "outputs": [
    {
     "name": "stdin",
     "output_type": "stream",
     "text": [
      "Enter first num:  55\n",
      "Enter second num:  68\n",
      "Enter third num:  11\n"
     ]
    },
    {
     "name": "stdout",
     "output_type": "stream",
     "text": [
      "68\n"
     ]
    }
   ],
   "source": [
    "# Q46\n",
    "a = int(input(\"Enter first num: \"))\n",
    "b = int(input(\"Enter second num: \"))\n",
    "c = int(input(\"Enter third num: \"))\n",
    "\n",
    "if a >= b and a >= c:\n",
    "    print(a)\n",
    "elif b >= a and b >= c:\n",
    "    print(b)\n",
    "else:\n",
    "    print(c)"
   ]
  },
  {
   "cell_type": "code",
   "execution_count": 47,
   "id": "4e62cffa-8a6a-4062-bae2-4ddda826b53a",
   "metadata": {},
   "outputs": [
    {
     "name": "stdin",
     "output_type": "stream",
     "text": [
      "Enter you marks:  88\n"
     ]
    },
    {
     "name": "stdout",
     "output_type": "stream",
     "text": [
      "B\n"
     ]
    }
   ],
   "source": [
    "# Q47\n",
    "\n",
    "mark = int(input(\"Enter you marks: \"))\n",
    "\n",
    "if mark >= 90:\n",
    "    print('A')\n",
    "elif mark >= 75 and mark <= 89:\n",
    "    print('B')\n",
    "elif mark >= 60 and mark <= 74:\n",
    "    print('C')\n",
    "else:\n",
    "    print('F')"
   ]
  },
  {
   "cell_type": "code",
   "execution_count": 48,
   "id": "63f89795-aba2-434c-8de4-fe9fc19f24ee",
   "metadata": {},
   "outputs": [
    {
     "name": "stdin",
     "output_type": "stream",
     "text": [
      " abaa\n"
     ]
    },
    {
     "name": "stdout",
     "output_type": "stream",
     "text": [
      "Not a Palindrome\n"
     ]
    }
   ],
   "source": [
    "# Q48\n",
    "\n",
    "pal_string = input()\n",
    "rev_string = pal_string[::-1]\n",
    "if pal_string == rev_string:\n",
    "    print(\"String is Palindrome\")\n",
    "else:\n",
    "    print(\"Not a Palindrome\")"
   ]
  },
  {
   "cell_type": "code",
   "execution_count": 49,
   "id": "25a7adb1-3d26-4823-86a7-dafe2c4f17c5",
   "metadata": {},
   "outputs": [
    {
     "name": "stdin",
     "output_type": "stream",
     "text": [
      " 29\n"
     ]
    },
    {
     "name": "stdout",
     "output_type": "stream",
     "text": [
      "Odd\n"
     ]
    }
   ],
   "source": [
    "# Q49\n",
    "\n",
    "n = int(input())\n",
    "\n",
    "if n % 2 == 0:\n",
    "    print(\"Even\")\n",
    "else:\n",
    "    print(\"Odd\")"
   ]
  },
  {
   "cell_type": "code",
   "execution_count": 50,
   "id": "03538cc9-af95-42cf-8cef-979760c57a72",
   "metadata": {},
   "outputs": [
    {
     "name": "stdin",
     "output_type": "stream",
     "text": [
      "N1 =  5\n",
      "N2 =  2\n",
      "Choose add or sub:  sub\n"
     ]
    },
    {
     "name": "stdout",
     "output_type": "stream",
     "text": [
      "3\n"
     ]
    }
   ],
   "source": [
    "# Q50\n",
    "N1 = int(input(\"N1 = \"))\n",
    "N2 = int(input(\"N2 = \"))\n",
    "\n",
    "choice = input(\"Choose add or sub: \")\n",
    "\n",
    "if choice == \"add\":\n",
    "    print(N1 + N2)\n",
    "elif choice == \"sub\":\n",
    "    print(N1 - N2)\n",
    "else:\n",
    "    print(\"Invalid Choice\")"
   ]
  },
  {
   "cell_type": "markdown",
   "id": "7e917bb2-001d-45aa-ba7b-620f48b262cb",
   "metadata": {},
   "source": [
    "## Operators"
   ]
  },
  {
   "cell_type": "markdown",
   "id": "dd0a26bd-f637-4950-8e24-6a87c474ac49",
   "metadata": {},
   "source": [
    "### Arithmetic Operators"
   ]
  },
  {
   "cell_type": "code",
   "execution_count": 51,
   "id": "b90a06b9-f1d6-416e-af39-336c433ca376",
   "metadata": {},
   "outputs": [
    {
     "name": "stdin",
     "output_type": "stream",
     "text": [
      "Num1:  89\n",
      "Num2:  98\n"
     ]
    },
    {
     "name": "stdout",
     "output_type": "stream",
     "text": [
      "Sum-> 187\n",
      "Diff-> -9\n",
      "Product-> 8722\n",
      "Quotient-> 0\n",
      "Remainder-> 89\n"
     ]
    }
   ],
   "source": [
    "# Q51\n",
    "num1 = int(input(\"Num1: \"))\n",
    "num2 = int(input(\"Num2: \"))\n",
    "\n",
    "print(\"Sum->\", num1 + num2)\n",
    "print(\"Diff->\", num1 - num2)\n",
    "print(\"Product->\", num1 * num2)\n",
    "print(\"Quotient->\", num1 // num2)\n",
    "print(\"Remainder->\", num1 % num2)\n"
   ]
  },
  {
   "cell_type": "code",
   "execution_count": 52,
   "id": "b8d386bc-86a8-4a8e-8938-e814006aa207",
   "metadata": {},
   "outputs": [
    {
     "name": "stdout",
     "output_type": "stream",
     "text": [
      "32\n"
     ]
    }
   ],
   "source": [
    "# Q52\n",
    "a, b = 2, 5\n",
    "print(a ** b)"
   ]
  },
  {
   "cell_type": "code",
   "execution_count": 53,
   "id": "c8cdd62d-fff5-44ad-805d-3306844bfe44",
   "metadata": {},
   "outputs": [
    {
     "name": "stdin",
     "output_type": "stream",
     "text": [
      "Enter the Radius:  2\n"
     ]
    },
    {
     "name": "stdout",
     "output_type": "stream",
     "text": [
      "12.56\n"
     ]
    }
   ],
   "source": [
    "# Q53\n",
    "radius = int(input(\"Enter the Radius: \"))\n",
    "pi = 3.14\n",
    "area = float(pi * radius ** 2)\n",
    "print(area)"
   ]
  },
  {
   "cell_type": "code",
   "execution_count": 54,
   "id": "a4808096-6eed-4e17-94e3-7679e542e0b0",
   "metadata": {},
   "outputs": [
    {
     "name": "stdin",
     "output_type": "stream",
     "text": [
      "Enter marks for 1st Subject 10\n",
      "Enter marks for 2st Subject 5\n",
      "Enter marks for 3st Subject 5\n",
      "Enter marks for 4st Subject 20\n",
      "Enter marks for 5st Subject 10\n"
     ]
    },
    {
     "name": "stdout",
     "output_type": "stream",
     "text": [
      "10.0\n"
     ]
    }
   ],
   "source": [
    "# Q54\n",
    "total = 0\n",
    "for i in range(1,6):\n",
    "    marks = int(input(f\"Enter marks for {i}st Subject\"))\n",
    "    total += marks\n",
    "print(total / 5)"
   ]
  },
  {
   "cell_type": "code",
   "execution_count": 55,
   "id": "52f00465-0e85-4c8d-9365-ac6aae2b0b9c",
   "metadata": {},
   "outputs": [
    {
     "name": "stdin",
     "output_type": "stream",
     "text": [
      "Enter the temperature in Celsius:  40\n"
     ]
    },
    {
     "name": "stdout",
     "output_type": "stream",
     "text": [
      "104.0\n"
     ]
    }
   ],
   "source": [
    "# Q55\n",
    "\n",
    "temp_c = int(input(\"Enter the temperature in Celsius: \"))\n",
    "temp_f = temp_c * (9/5) + 32\n",
    "print(temp_f)"
   ]
  },
  {
   "cell_type": "markdown",
   "id": "53967e97-1722-47b8-9558-a2b0dbe052f5",
   "metadata": {},
   "source": [
    "### Bitwise Operators"
   ]
  },
  {
   "cell_type": "code",
   "execution_count": 56,
   "id": "722ccc32-118f-4f84-a810-2e1d52788a45",
   "metadata": {},
   "outputs": [
    {
     "name": "stdout",
     "output_type": "stream",
     "text": [
      "a & b-> 1, a | b-> 7, a ^ b-> 6\n"
     ]
    }
   ],
   "source": [
    "# Q56\n",
    "\n",
    "a, b = 5, 3\n",
    "print(\"a & b-> \", a & b, \", a | b-> \", a | b, \", a ^ b-> \", a ^ b, sep = \"\")"
   ]
  },
  {
   "cell_type": "code",
   "execution_count": 57,
   "id": "7f63c7e9-71ba-4436-a666-3401d13388de",
   "metadata": {},
   "outputs": [
    {
     "name": "stdout",
     "output_type": "stream",
     "text": [
      "32\n",
      "0b100000\n"
     ]
    }
   ],
   "source": [
    "# Q57\n",
    "x = 8\n",
    "res = x << 2\n",
    "print(res)\n",
    "print(bin(res))"
   ]
  },
  {
   "cell_type": "code",
   "execution_count": 58,
   "id": "c25cb2bb-a6a7-47cc-a457-758afd775ae4",
   "metadata": {},
   "outputs": [
    {
     "name": "stdin",
     "output_type": "stream",
     "text": [
      "Enter the number:  24\n"
     ]
    },
    {
     "name": "stdout",
     "output_type": "stream",
     "text": [
      "Even\n"
     ]
    }
   ],
   "source": [
    "# Q58\n",
    "x = int(input(\"Enter the number: \"))\n",
    "if x & 1 == 0:\n",
    "    print(\"Even\")\n",
    "else:\n",
    "    print(\"Odd\")"
   ]
  },
  {
   "cell_type": "code",
   "execution_count": 59,
   "id": "094cd63f-d967-493b-bfff-a681de18e93b",
   "metadata": {},
   "outputs": [
    {
     "name": "stdin",
     "output_type": "stream",
     "text": [
      "a =  58\n",
      "b =  64\n"
     ]
    },
    {
     "name": "stdout",
     "output_type": "stream",
     "text": [
      "After swap \n",
      " a = 64 \n",
      " b = 58\n"
     ]
    }
   ],
   "source": [
    "# Q59\n",
    "a = int(input(\"a = \"))\n",
    "b = int(input(\"b = \"))\n",
    "\n",
    "a = a ^ b\n",
    "b = a ^ b # b is now original_a\n",
    "a = a ^ b # (original_a ^ original_b) ^ new_b(which is equal to original a) hence it cancel outs due to functionality of XOR function and final output is swapped numbers\n",
    "print(f\"After swap \\n a = {a} \\n b = {b}\")"
   ]
  },
  {
   "cell_type": "code",
   "execution_count": 60,
   "id": "e155bd10-a614-4e24-aaa8-7967ae9f3ccc",
   "metadata": {},
   "outputs": [
    {
     "name": "stdin",
     "output_type": "stream",
     "text": [
      " 10\n"
     ]
    },
    {
     "name": "stdout",
     "output_type": "stream",
     "text": [
      "-11\n",
      "It performs bitwise 2's Complement and convert it to integer\n"
     ]
    }
   ],
   "source": [
    "# Q60\n",
    "n = int(input())\n",
    "print(~n) \n",
    "print(\"It performs bitwise 2's Complement and convert it to integer\")"
   ]
  },
  {
   "cell_type": "markdown",
   "id": "82a55c8f-696e-44ee-bb4b-cae54dbc5650",
   "metadata": {},
   "source": [
    "### Conditional (Ternary) Operators"
   ]
  },
  {
   "cell_type": "code",
   "execution_count": 61,
   "id": "a24f86d8-e01a-4ada-994c-a83790f34ecb",
   "metadata": {},
   "outputs": [
    {
     "name": "stdin",
     "output_type": "stream",
     "text": [
      " 85\n",
      " 69\n"
     ]
    },
    {
     "name": "stdout",
     "output_type": "stream",
     "text": [
      "85\n"
     ]
    }
   ],
   "source": [
    "# Q61\n",
    "a = int(input())\n",
    "b = int(input())\n",
    "greater_num = a if a > b else b\n",
    "print(greater_num)"
   ]
  },
  {
   "cell_type": "code",
   "execution_count": 62,
   "id": "c9c476e3-109d-42c6-9fe2-efc7f28abf27",
   "metadata": {},
   "outputs": [
    {
     "name": "stdout",
     "output_type": "stream",
     "text": [
      "odd\n"
     ]
    }
   ],
   "source": [
    "# Q62\n",
    "a = 9\n",
    "res = \"even\" if a % 2 == 0 else \"odd\"\n",
    "print(res)"
   ]
  },
  {
   "cell_type": "code",
   "execution_count": 63,
   "id": "ba5cf4d4-2824-4699-beb8-927c8fc97f7b",
   "metadata": {},
   "outputs": [
    {
     "name": "stdout",
     "output_type": "stream",
     "text": [
      "Pass\n"
     ]
    }
   ],
   "source": [
    "# Q63\n",
    "marks = 50\n",
    "result = \"Pass\" if marks >= 40 else \"Fail\"\n",
    "print(result)"
   ]
  },
  {
   "cell_type": "code",
   "execution_count": 64,
   "id": "e21edd9f-3fa6-4f29-9192-6f129e043b66",
   "metadata": {},
   "outputs": [
    {
     "name": "stdin",
     "output_type": "stream",
     "text": [
      " 7\n",
      " 8\n",
      " 9\n"
     ]
    },
    {
     "name": "stdout",
     "output_type": "stream",
     "text": [
      "7\n"
     ]
    }
   ],
   "source": [
    "# Q64\n",
    "\n",
    "a = int(input())\n",
    "b = int(input())\n",
    "c = int(input())\n",
    "smallest_num = a if a <= b and a<=c else (b if b <= a and b <= c else c)\n",
    "print(smallest_num)"
   ]
  },
  {
   "cell_type": "code",
   "execution_count": 65,
   "id": "9601b70b-495e-4ea0-9abd-12239202c375",
   "metadata": {},
   "outputs": [
    {
     "name": "stdin",
     "output_type": "stream",
     "text": [
      " H\n"
     ]
    },
    {
     "name": "stdout",
     "output_type": "stream",
     "text": [
      "Uppercase\n"
     ]
    }
   ],
   "source": [
    "# Q65 \n",
    "chr1 = input()\n",
    "check_case = \"Uppercase\" if chr1[0].isupper() else \"lowercase\"\n",
    "print(check_case)"
   ]
  },
  {
   "cell_type": "code",
   "execution_count": null,
   "id": "3bba272f-d51a-4766-809a-554e5a063716",
   "metadata": {},
   "outputs": [],
   "source": []
  }
 ],
 "metadata": {
  "kernelspec": {
   "display_name": "Python 3 (ipykernel)",
   "language": "python",
   "name": "python3"
  },
  "language_info": {
   "codemirror_mode": {
    "name": "ipython",
    "version": 3
   },
   "file_extension": ".py",
   "mimetype": "text/x-python",
   "name": "python",
   "nbconvert_exporter": "python",
   "pygments_lexer": "ipython3",
   "version": "3.13.3"
  }
 },
 "nbformat": 4,
 "nbformat_minor": 5
}
