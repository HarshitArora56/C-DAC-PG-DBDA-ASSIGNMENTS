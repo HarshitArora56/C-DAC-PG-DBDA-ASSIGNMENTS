{
 "cells": [
  {
   "cell_type": "markdown",
   "id": "c29deef2-5e68-46cd-b19c-2b87d46cbcf0",
   "metadata": {},
   "source": [
    "# Assignment 4"
   ]
  },
  {
   "cell_type": "markdown",
   "id": "81043788-0b6e-43d0-b284-d14c8eb614b1",
   "metadata": {},
   "source": [
    "## Numbers/Loops"
   ]
  },
  {
   "cell_type": "code",
   "execution_count": 1,
   "id": "fd191769-7bba-4913-8eb5-9ee36f69d5e8",
   "metadata": {},
   "outputs": [
    {
     "name": "stdout",
     "output_type": "stream",
     "text": [
      "2 3 5 7 11 13 17 19 23 29 31 37 41 43 47 53 59 61 67 71 73 79 83 89 97 "
     ]
    }
   ],
   "source": [
    "# Q1\n",
    "import math\n",
    "def is_prime(n):\n",
    "    if n <= 1:\n",
    "        return False\n",
    "    for i in range(2,int(math.sqrt(n) + 1)):\n",
    "        if n % i == 0:\n",
    "            return False\n",
    "    return True\n",
    "\n",
    "def prime_in_range(n1,n2):\n",
    "    for i in range(n1,n2):\n",
    "        if is_prime(i):\n",
    "            print(i, end=\" \")\n",
    "prime_in_range(2,100)"
   ]
  },
  {
   "cell_type": "code",
   "execution_count": 2,
   "id": "57ab72e6-6732-4b42-940c-0715372a2cc7",
   "metadata": {},
   "outputs": [
    {
     "name": "stdout",
     "output_type": "stream",
     "text": [
      "1 2 3 4 5 6 7 8 9 153 370 371 407 "
     ]
    }
   ],
   "source": [
    "# Q3\n",
    "def is_armstrong(n):\n",
    "    x = n\n",
    "    total = 0\n",
    "    while x > 0:\n",
    "        digit = x % 10\n",
    "        total += (digit ** len(str(n)))\n",
    "        x //= 10\n",
    "\n",
    "    if total == n:\n",
    "        return True\n",
    "    else:\n",
    "        return False\n",
    "\n",
    "def armstrong_range(n1,n2):\n",
    "    for i in range(n1,n2):\n",
    "        if is_armstrong(i):\n",
    "            print(i, end=\" \")\n",
    "\n",
    "armstrong_range(1,1000)"
   ]
  },
  {
   "cell_type": "code",
   "execution_count": 3,
   "id": "6bfca35c-883f-4560-b1ef-c393fd21e608",
   "metadata": {},
   "outputs": [
    {
     "name": "stdout",
     "output_type": "stream",
     "text": [
      "1 2 145 40585 "
     ]
    }
   ],
   "source": [
    "# Q4\n",
    "\n",
    "def factorial(n1):\n",
    "    if n1 < 0:\n",
    "        print(\"Invalid Input\")\n",
    "    \n",
    "    if n1 == 0 or n1 == 1:\n",
    "        return 1\n",
    "    else:\n",
    "        return n1 * factorial(n1-1)\n",
    "\n",
    "def is_strong_num(n):\n",
    "    x = n\n",
    "    total = 0\n",
    "    while x > 0:\n",
    "        digit = x % 10\n",
    "        total += factorial(digit)\n",
    "        x //= 10\n",
    "        \n",
    "    if total == n:\n",
    "        return True\n",
    "    else:\n",
    "        return False\n",
    "def strongnum_range(n1,n2):\n",
    "    for i in range(n1,n2):\n",
    "        if is_strong_num(i):\n",
    "            print(i, end=\" \")\n",
    "strongnum_range(1,100000)"
   ]
  },
  {
   "cell_type": "code",
   "execution_count": 4,
   "id": "fd8040b2-717c-4a39-8b60-497cf3f63cb6",
   "metadata": {},
   "outputs": [
    {
     "name": "stdout",
     "output_type": "stream",
     "text": [
      "2 3 5 7 11 13 17 19 23 29 "
     ]
    }
   ],
   "source": [
    "# Q5\n",
    "def n_prime(n):\n",
    "    if n <= 0:\n",
    "        return\n",
    "        \n",
    "    count = 0\n",
    "    num = 2\n",
    "\n",
    "    while count < n:\n",
    "        if is_prime(num):\n",
    "            print(num, end = \" \")\n",
    "            count += 1\n",
    "        num += 1 \n",
    "\n",
    "n_prime(10)"
   ]
  },
  {
   "cell_type": "code",
   "execution_count": 5,
   "id": "e4a5530c-4353-4773-a371-0568ad124031",
   "metadata": {},
   "outputs": [
    {
     "name": "stdout",
     "output_type": "stream",
     "text": [
      "1 2 3 4 5 6 7 8 9 10 12 18 20 21 24 27 30 36 40 42 45 48 50 54 60 63 70 72 80 81 84 90 "
     ]
    }
   ],
   "source": [
    "# Q9\n",
    "def Hniven_num(n):\n",
    "    x = n\n",
    "    total = 0\n",
    "    while x > 0:\n",
    "        digit = x % 10\n",
    "        total += digit\n",
    "        x //= 10\n",
    "        \n",
    "    if n % total == 0:\n",
    "        return True\n",
    "    else:\n",
    "        return False\n",
    "\n",
    "def Hniven_range(n1,n2):\n",
    "    for i in range(n1,n2):\n",
    "        if Hniven_num(i):\n",
    "            print(i, end=\" \")\n",
    "Hniven_range(1,100)"
   ]
  },
  {
   "cell_type": "code",
   "execution_count": 6,
   "id": "00e4b313-c1e5-4fd1-9c7e-5b2192f39968",
   "metadata": {},
   "outputs": [
    {
     "data": {
      "text/plain": [
       "81"
      ]
     },
     "execution_count": 6,
     "metadata": {},
     "output_type": "execute_result"
    }
   ],
   "source": [
    "# Q10\n",
    "def sos_digit(n):\n",
    "    x = n\n",
    "    total = 0\n",
    "    while x > 0:\n",
    "        digit = x % 10\n",
    "        total += (digit ** 2)\n",
    "        x //= 10\n",
    "    return total\n",
    "\n",
    "sos_digit(2456)"
   ]
  },
  {
   "cell_type": "markdown",
   "id": "ad870c6b-347c-4cd7-8934-fd2bd613dc3b",
   "metadata": {},
   "source": [
    "## Pattern"
   ]
  },
  {
   "cell_type": "code",
   "execution_count": 7,
   "id": "c5d4f982-b934-43f0-965f-7b7a86053e1b",
   "metadata": {},
   "outputs": [
    {
     "name": "stdin",
     "output_type": "stream",
     "text": [
      "Enter the number of rows:  5\n"
     ]
    },
    {
     "name": "stdout",
     "output_type": "stream",
     "text": [
      "* \n",
      "* * \n",
      "* * * \n",
      "* * * * \n",
      "* * * * * \n"
     ]
    }
   ],
   "source": [
    "# Q16\n",
    "n = int(input(\"Enter the number of rows: \"))\n",
    "for rows in range(1, n+1):\n",
    "    for cols in range(1, rows + 1):\n",
    "        print(\"*\", end = \" \")\n",
    "    print()\n",
    "        "
   ]
  },
  {
   "cell_type": "code",
   "execution_count": 8,
   "id": "eaeec0a9-30af-4598-a92e-dc2d82929750",
   "metadata": {},
   "outputs": [
    {
     "name": "stdout",
     "output_type": "stream",
     "text": [
      "     1 \n",
      "    2 3 \n",
      "   4 5 6 \n",
      "  7 8 9 10 \n",
      " 11 12 13 14 15 \n"
     ]
    }
   ],
   "source": [
    "# Q17\n",
    "val = 1\n",
    "for rows in range(n):\n",
    "    for space in range(n - rows):\n",
    "        print(\"\", end=\" \")\n",
    "    for cols in range(rows + 1):\n",
    "        print(val , end = \" \")\n",
    "        val += 1\n",
    "    print()"
   ]
  },
  {
   "cell_type": "code",
   "execution_count": 9,
   "id": "c665e35a-3225-44e3-9d7b-df9e0f5a3c04",
   "metadata": {},
   "outputs": [
    {
     "name": "stdout",
     "output_type": "stream",
     "text": [
      "     1 \n",
      "    1 1 \n",
      "   1 2 1 \n",
      "  1 3 3 1 \n",
      " 1 4 6 4 1 \n"
     ]
    }
   ],
   "source": [
    "for rows in range(n):\n",
    "    val = 1\n",
    "    for space in range(n - rows):\n",
    "        print(\"\", end=\" \")\n",
    "    for cols in range(rows + 1):\n",
    "        print(val, end = \" \")\n",
    "        val = val * (rows - cols) // (cols + 1)\n",
    "    print()"
   ]
  },
  {
   "cell_type": "code",
   "execution_count": 10,
   "id": "ac359317-071b-4514-ba7c-0c9dc447942d",
   "metadata": {},
   "outputs": [
    {
     "name": "stdin",
     "output_type": "stream",
     "text": [
      "Enter the number to get the multiplication table:  5\n"
     ]
    },
    {
     "name": "stdout",
     "output_type": "stream",
     "text": [
      "1 \t 2 \t 3 \t 4 \t 5 \t \n",
      "2 \t 4 \t 6 \t 8 \t 10 \t \n",
      "3 \t 6 \t 9 \t 12 \t 15 \t \n",
      "4 \t 8 \t 12 \t 16 \t 20 \t \n",
      "5 \t 10 \t 15 \t 20 \t 25 \t \n"
     ]
    }
   ],
   "source": [
    "# Q19\n",
    "x = int(input(\"Enter the number to get the multiplication table: \"))\n",
    "for i in range(1,x+1):\n",
    "    for j in range(1,x+1):\n",
    "        print(i*j , \"\\t\", end = \" \")\n",
    "    print()"
   ]
  },
  {
   "cell_type": "code",
   "execution_count": 11,
   "id": "7b3b6732-bb06-4ac9-9dd8-c5ecf6fee6f6",
   "metadata": {},
   "outputs": [
    {
     "name": "stdout",
     "output_type": "stream",
     "text": [
      "1 \n",
      "2 2 \n",
      "3 3 3 \n",
      "4 4 4 4 \n",
      "5 5 5 5 5 \n"
     ]
    }
   ],
   "source": [
    "# Q20\n",
    "for rows in range(n):\n",
    "    for cols in range(rows + 1):\n",
    "        print(rows + 1, end = \" \")\n",
    "    print()"
   ]
  },
  {
   "cell_type": "code",
   "execution_count": null,
   "id": "01a7fbbf-93a2-4626-aea8-6b767ff3751a",
   "metadata": {},
   "outputs": [],
   "source": []
  }
 ],
 "metadata": {
  "kernelspec": {
   "display_name": "Python 3 (ipykernel)",
   "language": "python",
   "name": "python3"
  },
  "language_info": {
   "codemirror_mode": {
    "name": "ipython",
    "version": 3
   },
   "file_extension": ".py",
   "mimetype": "text/x-python",
   "name": "python",
   "nbconvert_exporter": "python",
   "pygments_lexer": "ipython3",
   "version": "3.13.3"
  }
 },
 "nbformat": 4,
 "nbformat_minor": 5
}
